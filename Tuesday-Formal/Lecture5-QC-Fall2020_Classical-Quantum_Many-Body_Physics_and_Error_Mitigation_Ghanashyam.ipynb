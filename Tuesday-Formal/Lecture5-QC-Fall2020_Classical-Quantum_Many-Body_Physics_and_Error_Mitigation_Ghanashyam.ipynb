{
 "cells": [
  {
   "cell_type": "markdown",
   "metadata": {},
   "source": [
    "# References\n",
    "* [SE discussion on classical/quantum ising model](https://physics.stackexchange.com/questions/273748/what-is-the-difference-between-classical-and-quantum-ising-model)\n",
    "* [Andrew Tan's paper on Quantum Ising Model](https://paramekanti.weebly.com/uploads/1/1/2/8/11287579/atan_paper.pdf)\n",
    "* For general introduction to Simulation of quantum systems, See **Section 4.7 Nielson And Chuang**\n",
    "* For detailed discussion on mathematical expressiion, See **Section 7.5.2 from Nielson and Chuang**\n",
    "\n",
    "* [Qiskit Tutorial on Travelling Salesman Problem](https://qiskit.org/documentation/tutorials/optimization/6_examples_max_cut_and_tsp.html)"
   ]
  },
  {
   "cell_type": "markdown",
   "metadata": {},
   "source": [
    "The concepts to be introduced in this notebook, such as the Ising model, simulated annealing, and the transverse Ising model, play an important role in today's quantum algorithms and quantum computing paradigms, including quantum annealing, the quantum approximate optimization algorithm, and quantum-enhanced sampling. Here we give some insight on how these physical building blocks work.\n",
    "\n",
    "# The Ising model\n",
    "\n",
    "<table>\n",
    "    <tr>\n",
    "    <td> <img src=\"../images/ising_lattice.png\" alt=\"Two magnets\" style=\"width: 400px;\"/>   </td>\n",
    "    <td> <img src=\"../images/two_magnets.svg\" alt=\"Two magnets\" style=\"width: 100px;\"/>     </td>\n",
    "    </tr>\n",
    "</table>\n",
    "\n",
    "We would like to make a connection between the computational hardness of a problem and how difficult it is to solve a corresponding physical system. The Ising model is the most basic model to do this. It is an extensively studied model and one of the most basic examples to teach statistical mechanics and phase transitions, but we only require an elementary understanding of it.\n",
    "\n",
    "Imagine that you have two magnets fixed on the same axis.\n",
    "\n",
    "\n",
    "\n",
    "They will naturally anti-align: one will have north pole facing up, the second the south pole facing up. We can think of them as two binary variables, $\\sigma_1$ and $\\sigma_2$. Say, if the north pole is facing up, we assign the value +1 to the variable, and -1 otherwise. To abstract away from magnets, in general, we call these variables spins. So in the optimal configuration, their product is -1:\n",
    "\n",
    "$$ \\sigma_1\\sigma_2=-1 $$\n",
    "\n",
    "We can think of this as the energy of the system: the lowest energy is called the ground state energy. Note that there are two physical configurations corresponding to this optimum: $\\sigma_1=+1, \\sigma_2=-1$, and $\\sigma_1=-1, \\sigma_2=+1$.\n",
    "\n",
    "If we keep adding more magnets to this system, we can sum up their pairwise interaction to get the total energy. The total energy of the system is called the Hamiltonian, and we will denote it by $H$. So if we have $N$ magnets arranged along a straight line, we have\n",
    "\n",
    "$$ H=\\sum_{i=1}^{N-1} \\sigma_i \\sigma_{i+1}$$.\n",
    "\n",
    "We did a simplification here: we assumed that remote magnets do not interact with each other (e.g. there is no such term as $\\sigma_i\\sigma_{i+2}$. In general, the interactions modeled depend on the layout of the spins and assumptions about the physical model: there will be some graph describing the connectivity of interactions. To reflect this, we write\n",
    "\n",
    "$$ H=\\sum_{<i,j>} \\sigma_i \\sigma_{j}$$,\n",
    "\n",
    "where $<i,j>$ typically means nearest neighbours, but it is up to us to declare what nearest neighbours mean.\n",
    "\n",
    "Now imagine that the distance is not the same between each pair. In other words, some pairs interact more than others. We can express this by adding a parameter that describes the interaction strength:\n",
    "\n",
    "$$ H=-\\sum_{<i,j>} J_{ij} \\sigma_i \\sigma_{j}$$,\n",
    "\n",
    "where $J_{ij}$ is a real number. We added a negative sign to the Hamiltonian: this is by convention. If the spins are antiferromagnetic, that is, they behave as we would expect from magnets, then all $J_{ij}$ values would be negative. That cancels out the negative sign of the sum, so we still expect that each product $\\sigma_i\\sigma_j$ would give you -1 in the optimum configuration.\n",
    "\n",
    "The model is fairly complicated by this point. Imagine that you have many spins and not all of them behave like magnets (that is, $J_{ij}$ can take both negative and positive values for different pairs). Nature still wants to find the lowest energy configuration, though. Let's take a look at how we would do it in code. Let's calculate the energy of spins on a line, given some couplings and a spin configuration:"
   ]
  },
  {
   "cell_type": "code",
   "execution_count": 1,
   "metadata": {},
   "outputs": [],
   "source": [
    "import numpy as np\n",
    "import matplotlib.pylab as plt\n",
    "import seaborn as sns"
   ]
  },
  {
   "cell_type": "code",
   "execution_count": 2,
   "metadata": {},
   "outputs": [
    {
     "data": {
      "text/plain": [
       "array([-1, -1, -1,  1,  1,  1,  1, -1, -1,  1])"
      ]
     },
     "execution_count": 2,
     "metadata": {},
     "output_type": "execute_result"
    }
   ],
   "source": [
    "np.sign(2*np.random.rand(10)-1).astype('int')"
   ]
  },
  {
   "cell_type": "code",
   "execution_count": 3,
   "metadata": {},
   "outputs": [],
   "source": [
    "class Ising2D():\n",
    "    def __init__(self, N=10, seed=8848):\n",
    "        \n",
    "        self.N = N\n",
    "        self.seed = seed\n",
    "        np.random.seed(self.seed)\n",
    "        # construct a lattice with random spins (+1, -1)\n",
    "        self.Lattice = np.array([ np.sign(2*np.random.rand(self.N)-1).astype('int') for i in range(self.N)] )\n",
    "\n",
    "    def Print_lattice(self):\n",
    "        for row in self.Lattice:\n",
    "            print (row)\n",
    "\n",
    "    def Plot_lattice(self):\n",
    "        fig,ax=plt.subplots(1,1, figsize=(6,6))\n",
    "        sns.heatmap(self.Lattice, linecolor='white', cbar=True, ax=ax,\\\n",
    "                    square=True, cmap='viridis', xticklabels=[], yticklabels=[]);\n",
    "        plt.show()\n",
    "        \n",
    "    def Energy(self, J=1):\n",
    "        # one liner using list comprehension\n",
    "        ene = np.sum([ -1.0*J*self.Lattice[i,j] *( self.Lattice[ (i+1)%self.N, j ] + self.Lattice[ (i-1)%self.N, j ] +\\\n",
    "                                            self.Lattice[ i, (j+1)%self.N ] + self.Lattice[ i, (j-1)%self.N ] ) \\\n",
    "                for i in range(self.N) for j in range(self.N) ])\n",
    "        return ene\n",
    "        \n",
    "    def Magnetization(self):\n",
    "        return np.sum(self.Lattice)"
   ]
  },
  {
   "cell_type": "code",
   "execution_count": 4,
   "metadata": {},
   "outputs": [
    {
     "data": {
      "image/png": "[encoded data removed]",
      "text/plain": [
       "<Figure size 432x432 with 2 Axes>"
      ]
     },
     "metadata": {
      "needs_background": "light"
     },
     "output_type": "display_data"
    },
    {
     "name": "stdout",
     "output_type": "stream",
     "text": [
      "Energy of given configuration: 16.0 and Magnetization: -2\n"
     ]
    }
   ],
   "source": [
    "model = Ising2D(N=10, seed=1) # seed 0, N=12\n",
    "model.Plot_lattice()\n",
    "#model.Print_lattice()\n",
    "Ene = model.Energy()\n",
    "M = model.Magnetization()\n",
    "print ( f\"Energy of given configuration: {Ene} and Magnetization: {M}\")"
   ]
  },
  {
   "cell_type": "code",
   "execution_count": 5,
   "metadata": {
    "ExecuteTime": {
     "end_time": "2018-11-19T20:00:27.336290Z",
     "start_time": "2018-11-19T20:00:27.331856Z"
    }
   },
   "outputs": [],
   "source": [
    "def calculate_energy(J, σ, h=[0]):\n",
    "    energy = -sum(J_ij*σ[i]*σ[i+1] for i, J_ij in enumerate(J))\n",
    "    energy += -sum(h_i*σ_i for h_i, σ_i in zip(h, σ))\n",
    "    return energy"
   ]
  },
  {
   "cell_type": "markdown",
   "metadata": {},
   "source": [
    "Let's give it a fixed set of couplings and a spin configuration on three sites:"
   ]
  },
  {
   "cell_type": "code",
   "execution_count": 6,
   "metadata": {
    "ExecuteTime": {
     "end_time": "2018-11-19T20:00:27.358242Z",
     "start_time": "2018-11-19T20:00:27.340861Z"
    }
   },
   "outputs": [],
   "source": [
    "J = [1.0, -1.0]\n",
    "σ = [+1, -1, +1]"
   ]
  },
  {
   "cell_type": "markdown",
   "metadata": {},
   "source": [
    "The energy of this is"
   ]
  },
  {
   "cell_type": "code",
   "execution_count": 7,
   "metadata": {
    "ExecuteTime": {
     "end_time": "2018-11-19T20:00:27.387715Z",
     "start_time": "2018-11-19T20:00:27.360889Z"
    }
   },
   "outputs": [
    {
     "data": {
      "text/plain": [
       "0.0"
      ]
     },
     "execution_count": 7,
     "metadata": {},
     "output_type": "execute_result"
    }
   ],
   "source": [
    "calculate_energy(J, σ)"
   ]
  },
  {
   "cell_type": "markdown",
   "metadata": {},
   "source": [
    "Is this the ground state? How do we know? We are interested in the minimum, but we cannot use some gradient-based method to find it, since the variables are binary, plus the optimization landscape is nonconvex. So the easiest choice is an exhaustive search of all possibilities:"
   ]
  },
  {
   "cell_type": "code",
   "execution_count": 8,
   "metadata": {
    "ExecuteTime": {
     "end_time": "2018-11-19T20:00:27.407303Z",
     "start_time": "2018-11-19T20:00:27.389825Z"
    }
   },
   "outputs": [
    {
     "name": "stdout",
     "output_type": "stream",
     "text": [
      "Spin configuration:\t(1, 1, 1) \tEnergy: \t 0.0\n",
      "Spin configuration:\t(1, 1, -1) \tEnergy: \t -2.0\n",
      "Spin configuration:\t(1, -1, 1) \tEnergy: \t 0.0\n",
      "Spin configuration:\t(1, -1, -1) \tEnergy: \t 2.0\n",
      "Spin configuration:\t(-1, 1, 1) \tEnergy: \t 2.0\n",
      "Spin configuration:\t(-1, 1, -1) \tEnergy: \t 0.0\n",
      "Spin configuration:\t(-1, -1, 1) \tEnergy: \t -2.0\n",
      "Spin configuration:\t(-1, -1, -1) \tEnergy: \t 0.0\n"
     ]
    }
   ],
   "source": [
    "import itertools\n",
    "for σ in itertools.product(*[{+1, -1}, {+1, -1}, {+1, -1}]):\n",
    "#for σ in itertools.product(*[{+1,-1} for _ in range(3)]):\n",
    "    print(f\"Spin configuration:\\t{σ} \\tEnergy: \\t {calculate_energy(J, σ)}\")"
   ]
  },
  {
   "cell_type": "markdown",
   "metadata": {},
   "source": [
    "We see that -2 is the optimum, with two optimal configurations, but we had to enumerate all possibilities to figure this out. For this particular case, there are more clever ways to find the best solution, but in the general case, this is not the case.\n"
   ]
  },
  {
   "cell_type": "markdown",
   "metadata": {},
   "source": [
    "### Long Range Magnetic Order"
   ]
  },
  {
   "cell_type": "code",
   "execution_count": 9,
   "metadata": {},
   "outputs": [
    {
     "name": "stdout",
     "output_type": "stream",
     "text": [
      "J=[1.0, 1.0] \tEnergy= 1.6\n",
      "J=[-1.0, -1.0] \tEnergy= -2.4\n"
     ]
    }
   ],
   "source": [
    "J = [1., 1.]\n",
    "σ = [+1, -1, +1]\n",
    "h = [0.5, 0.5, 0.4]\n",
    "print ( f\"J={J} \\tEnergy= {calculate_energy(J, σ, h)}\")\n",
    "\n",
    "J = [-1., -1.]\n",
    "σ = [+1, -1, +1]\n",
    "h = [0.5, 0.5, 0.4]\n",
    "print ( f\"J={J} \\tEnergy= {calculate_energy(J, σ, h)}\")"
   ]
  },
  {
   "cell_type": "markdown",
   "metadata": {},
   "source": [
    "**The sign of the coupling defines the nature of the interaction, ferromagnetic or antiferromagnetic**, corresponding to positive and negative $J$ values, respectively. Setting the couplings to zero, we have a non-interacting model. Create an arbitrary antiferromagnetic model on three sites with no external field. Define the model through variables `J` and `h`. Iterate over all solutions and write the optimal one in a variable called `σ`. If the optimum is degenerate, that is, you have more than one optimal configuration, keep one."
   ]
  },
  {
   "cell_type": "code",
   "execution_count": 10,
   "metadata": {},
   "outputs": [],
   "source": [
    "import itertools\n",
    "J = [-1, -1]\n",
    "h = [0, 0, 0]\n",
    "minimum_energy = 0\n",
    "for σ_c in itertools.product(*[{+1,-1} for _ in range(3)]):\n",
    "    energy = calculate_energy(J, σ_c, h)\n",
    "    if energy < minimum_energy:\n",
    "        minimum_energy = energy\n",
    "        σ = σ_c"
   ]
  },
  {
   "cell_type": "code",
   "execution_count": 11,
   "metadata": {},
   "outputs": [
    {
     "data": {
      "text/plain": [
       "((1, -1, 1), -2)"
      ]
     },
     "execution_count": 11,
     "metadata": {},
     "output_type": "execute_result"
    }
   ],
   "source": [
    "σ, minimum_energy"
   ]
  },
  {
   "cell_type": "markdown",
   "metadata": {},
   "source": [
    "To get to the general case, we need one more component, an external field. Imagine that you add a large magnet below each and every one of our magnets, creating an external magnetic field for each site. If this field is strong enough, it can override the pairwise interaction and flip the magnets. We model this by adding a linear term to the Hamiltonian:\n",
    "\n",
    "$$ H=-\\sum_{<i,j>} J_{ij} \\sigma_i \\sigma_{j} - \\sum_i h_i \\sigma_i$$,\n",
    "\n",
    "where $h_i$ is the strength of the external field. This is the full description of the **classical Ising model**. The Hamiltonian describes the energy, but in computer science language, it means it expresses the objective function we want to minimize. The **corresponding computer science problem is called quadratic unconstrained binary optimization (QUBO)**, where the only difference is that the variables take values in $\\{0, 1\\}$, but that is only a constant shift. **QUBOs are NP-hard in general**, that is, we are not aware of an efficient polynomial time algorithm to solve any given QUBO. So the generic strategy is the exhaustive search we did above, which takes exponentially many steps in the number of sites (variables).\n"
   ]
  },
  {
   "cell_type": "markdown",
   "metadata": {},
   "source": [
    "As we mentioned, nature seeks the minimum energy configuration. So how does computational hardness map to physical difficulty? Imagine that the energy difference between the ground state and the next lowest energy state (also called the first excited state) is small, but the energetic cost of going from one to the other is high. A cartoon picture of this is the following:\n",
    "\n",
    "<img src=\"../images/energy_landscape.svg\" alt=\"Energy landscape\" style=\"width: 200px;\"/>\n",
    "\n",
    "If we start from a random configuration, we might get stuck in the local optimum denoted by the green spot. This is what happens in metals if they are cooled down too quickly: the crystal lattice will have imperfections and the metal will not have the desired properties. A process called **annealing** helps in metallurgy: by increasing the temperature, the chance of overcoming the potential barrier increases and the crystal structure can reconfigure itself. If the barrier is high and the energy difference is small between the ground state and the first excited state, the probability of this happening drops. This is what it means that the problem is difficult to do in a physical system.\n",
    "\n",
    "Annealing inspired a heuristic algorithm called **[simulated annealing](https://en.wikipedia.org/wiki/Simulated_annealing)**. This defines a temperature to be able to hop out of local minima. The temperature is lowered over time to find the actual minimum. Simulated annealing has many implementations. Here we'll use the one implemented in dimod to solve our problem above:"
   ]
  },
  {
   "cell_type": "code",
   "execution_count": 12,
   "metadata": {},
   "outputs": [],
   "source": [
    "# !pip3 install dimod"
   ]
  },
  {
   "cell_type": "code",
   "execution_count": 13,
   "metadata": {
    "ExecuteTime": {
     "end_time": "2018-11-19T20:00:27.549002Z",
     "start_time": "2018-11-19T20:00:27.454734Z"
    }
   },
   "outputs": [],
   "source": [
    "import dimod"
   ]
  },
  {
   "cell_type": "markdown",
   "metadata": {},
   "source": [
    "The simulated annealing solver requires us to define the couplings as a dictionary between spins, and we must also pass the external field values as a dictionary. The latter is all zeros for us."
   ]
  },
  {
   "cell_type": "code",
   "execution_count": 14,
   "metadata": {
    "ExecuteTime": {
     "end_time": "2018-11-19T20:00:27.555690Z",
     "start_time": "2018-11-19T20:00:27.551785Z"
    }
   },
   "outputs": [],
   "source": [
    "J = {(0, 1): 1.0, (1, 2): -1.0}\n",
    "h = {0:0, 1:0, 2:0}"
   ]
  },
  {
   "cell_type": "markdown",
   "metadata": {},
   "source": [
    "We instantiate an Ising model:"
   ]
  },
  {
   "cell_type": "code",
   "execution_count": 15,
   "metadata": {
    "ExecuteTime": {
     "end_time": "2018-11-19T20:00:27.575330Z",
     "start_time": "2018-11-19T20:00:27.557800Z"
    }
   },
   "outputs": [],
   "source": [
    "model = dimod.BinaryQuadraticModel(h, J, 0.0, dimod.SPIN) # syntax (linear, quadratic, offset, vartype)"
   ]
  },
  {
   "cell_type": "markdown",
   "metadata": {},
   "source": [
    "Finally, we create a simulated annealing sampler that pulls out potentially optimal solutions, and we read out 10 possible solutions:"
   ]
  },
  {
   "cell_type": "code",
   "execution_count": 16,
   "metadata": {
    "ExecuteTime": {
     "end_time": "2018-11-19T20:00:27.701309Z",
     "start_time": "2018-11-19T20:00:27.580079Z"
    }
   },
   "outputs": [],
   "source": [
    "sampler = dimod.SimulatedAnnealingSampler()\n",
    "response = sampler.sample(model, num_reads=10)"
   ]
  },
  {
   "cell_type": "markdown",
   "metadata": {},
   "source": [
    "You can see that this configuration is actually easy, since you get the optimal solution -2 most of the time:"
   ]
  },
  {
   "cell_type": "code",
   "execution_count": 17,
   "metadata": {},
   "outputs": [
    {
     "name": "stdout",
     "output_type": "stream",
     "text": [
      "All energies: [-2.0, -2.0, -2.0, -2.0, -2.0, -2.0, -2.0, -2.0, -2.0, -2.0] with total count: 10\n"
     ]
    }
   ],
   "source": [
    "all_ene = [solution.energy for solution in response.data()]\n",
    "print (f\"All energies: {all_ene} with total count: {all_ene.count(-2.)}\")"
   ]
  },
  {
   "cell_type": "markdown",
   "metadata": {},
   "source": [
    "Simulated annealing is a classical heuristic algorithm. [Quantum annealing](https://en.wikipedia.org/wiki/Quantum_annealing) uses physical effects to find the global optimum of an Ising model: it uses thermal effects just like annealing in metallurgy, but it also uses quantum effects like tunneling to overcome potential barriers.\n",
    "\n",
    "*The transverse field is slowly decreased (adiabatic evolution) and finally switched off, and the system is expected to have reached the ground state of the classical Ising model that corresponds to the solution to the original optimization problem.*\n",
    "\n",
    "The Ising model also plays an important role in quantum-enhanced sampling, but that idea requires a better understanding of the role of temperature, which we will revisit in a subsequent notebook."
   ]
  },
  {
   "cell_type": "markdown",
   "metadata": {},
   "source": [
    "# The transverse-field Ising model"
   ]
  },
  {
   "cell_type": "markdown",
   "metadata": {},
   "source": [
    "We discussed the Hamiltonian of the classical Ising model. We can write the same Hamiltonian in a quantum mechanical form. In quantum mechanics, the Hamiltonian is not a function of variables, but of operators. We will simulate what it means in a quantum circuit."
   ]
  },
  {
   "cell_type": "code",
   "execution_count": 18,
   "metadata": {},
   "outputs": [
    {
     "name": "stdout",
     "output_type": "stream",
     "text": [
      "Collecting git+https://github.com/qiskit-community/qiskit-textbook.git#subdirectory=qiskit-textbook-src\n",
      "  Cloning https://github.com/qiskit-community/qiskit-textbook.git to c:\\users\\aman\\appdata\\local\\temp\\pip-req-build-t6uoczrm\n",
      "Requirement already satisfied (use --upgrade to upgrade): qiskit-textbook==0.1.0 from git+https://github.com/qiskit-community/qiskit-textbook.git#subdirectory=qiskit-textbook-src in c:\\users\\aman\\anaconda3\\lib\\site-packages\n",
      "Requirement already satisfied: qiskit in c:\\users\\aman\\appdata\\roaming\\python\\python37\\site-packages (from qiskit-textbook==0.1.0) (0.20.0)\n",
      "Requirement already satisfied: ipython in c:\\users\\aman\\anaconda3\\lib\\site-packages (from qiskit-textbook==0.1.0) (7.17.0)\n",
      "Requirement already satisfied: ipywidgets in c:\\users\\aman\\anaconda3\\lib\\site-packages (from qiskit-textbook==0.1.0) (7.5.1)\n",
      "Requirement already satisfied: numpy in c:\\users\\aman\\anaconda3\\lib\\site-packages (from qiskit-textbook==0.1.0) (1.18.3)\n",
      "Requirement already satisfied: matplotlib in c:\\users\\aman\\anaconda3\\lib\\site-packages (from qiskit-textbook==0.1.0) (3.3.0)\n",
      "Requirement already satisfied: qiskit-aer==0.6.1 in c:\\users\\aman\\appdata\\roaming\\python\\python37\\site-packages (from qiskit->qiskit-textbook==0.1.0) (0.6.1)\n",
      "Requirement already satisfied: qiskit-ibmq-provider==0.8.0 in c:\\users\\aman\\appdata\\roaming\\python\\python37\\site-packages (from qiskit->qiskit-textbook==0.1.0) (0.8.0)\n",
      "Requirement already satisfied: qiskit-aqua==0.7.5 in c:\\users\\aman\\appdata\\roaming\\python\\python37\\site-packages (from qiskit->qiskit-textbook==0.1.0) (0.7.5)\n",
      "Requirement already satisfied: qiskit-ignis==0.4.0 in c:\\users\\aman\\appdata\\roaming\\python\\python37\\site-packages (from qiskit->qiskit-textbook==0.1.0) (0.4.0)\n",
      "Requirement already satisfied: qiskit-terra==0.15.1 in c:\\users\\aman\\appdata\\roaming\\python\\python37\\site-packages (from qiskit->qiskit-textbook==0.1.0) (0.15.1)\n",
      "Requirement already satisfied: colorama; sys_platform == \"win32\" in c:\\users\\aman\\anaconda3\\lib\\site-packages (from ipython->qiskit-textbook==0.1.0) (0.4.3)\n",
      "Requirement already satisfied: backcall in c:\\users\\aman\\anaconda3\\lib\\site-packages (from ipython->qiskit-textbook==0.1.0) (0.2.0)\n",
      "Requirement already satisfied: jedi>=0.10 in c:\\users\\aman\\anaconda3\\lib\\site-packages (from ipython->qiskit-textbook==0.1.0) (0.15.2)\n",
      "Requirement already satisfied: traitlets>=4.2 in c:\\users\\aman\\anaconda3\\lib\\site-packages (from ipython->qiskit-textbook==0.1.0) (4.3.3)\n",
      "Requirement already satisfied: setuptools>=18.5 in c:\\users\\aman\\anaconda3\\lib\\site-packages (from ipython->qiskit-textbook==0.1.0) (49.6.0.post20200814)\n",
      "Requirement already satisfied: prompt-toolkit!=3.0.0,!=3.0.1,<3.1.0,>=2.0.0 in c:\\users\\aman\\anaconda3\\lib\\site-packages (from ipython->qiskit-textbook==0.1.0) (3.0.5)\n",
      "Requirement already satisfied: pickleshare in c:\\users\\aman\\anaconda3\\lib\\site-packages (from ipython->qiskit-textbook==0.1.0) (0.7.5)\n",
      "Requirement already satisfied: decorator in c:\\users\\aman\\anaconda3\\lib\\site-packages (from ipython->qiskit-textbook==0.1.0) (4.4.2)\n",
      "Requirement already satisfied: pygments in c:\\users\\aman\\anaconda3\\lib\\site-packages (from ipython->qiskit-textbook==0.1.0) (2.6.1)\n",
      "Requirement already satisfied: nbformat>=4.2.0 in c:\\users\\aman\\anaconda3\\lib\\site-packages (from ipywidgets->qiskit-textbook==0.1.0) (5.0.7)\n",
      "Requirement already satisfied: widgetsnbextension~=3.5.0 in c:\\users\\aman\\anaconda3\\lib\\site-packages (from ipywidgets->qiskit-textbook==0.1.0) (3.5.1)\n",
      "Requirement already satisfied: ipykernel>=4.5.1 in c:\\users\\aman\\anaconda3\\lib\\site-packages (from ipywidgets->qiskit-textbook==0.1.0) (5.3.4)\n",
      "Requirement already satisfied: pyparsing!=2.0.4,!=2.1.2,!=2.1.6,>=2.0.3 in c:\\users\\aman\\anaconda3\\lib\\site-packages (from matplotlib->qiskit-textbook==0.1.0) (2.4.7)\n",
      "Requirement already satisfied: python-dateutil>=2.1 in c:\\users\\aman\\anaconda3\\lib\\site-packages (from matplotlib->qiskit-textbook==0.1.0) (2.8.1)\n",
      "Requirement already satisfied: kiwisolver>=1.0.1 in c:\\users\\aman\\anaconda3\\lib\\site-packages (from matplotlib->qiskit-textbook==0.1.0) (1.2.0)\n",
      "Requirement already satisfied: cycler>=0.10 in c:\\users\\aman\\anaconda3\\lib\\site-packages (from matplotlib->qiskit-textbook==0.1.0) (0.10.0)\n",
      "Requirement already satisfied: pillow>=6.2.0 in c:\\users\\aman\\anaconda3\\lib\\site-packages (from matplotlib->qiskit-textbook==0.1.0) (7.2.0)\n",
      "Requirement already satisfied: scipy>=1.0; python_version > \"3.5\" in c:\\users\\aman\\anaconda3\\lib\\site-packages (from qiskit-aer==0.6.1->qiskit->qiskit-textbook==0.1.0) (1.5.1)\n",
      "Requirement already satisfied: cython>=0.27.1 in c:\\users\\aman\\anaconda3\\lib\\site-packages (from qiskit-aer==0.6.1->qiskit->qiskit-textbook==0.1.0) (0.29.21)\n",
      "Requirement already satisfied: pybind11>=2.4 in c:\\users\\aman\\appdata\\roaming\\python\\python37\\site-packages (from qiskit-aer==0.6.1->qiskit->qiskit-textbook==0.1.0) (2.5.0)\n",
      "Requirement already satisfied: websockets>=8; python_version > \"3.6\" in c:\\users\\aman\\appdata\\roaming\\python\\python37\\site-packages (from qiskit-ibmq-provider==0.8.0->qiskit->qiskit-textbook==0.1.0) (8.1)\n",
      "Requirement already satisfied: requests>=2.19 in c:\\users\\aman\\anaconda3\\lib\\site-packages (from qiskit-ibmq-provider==0.8.0->qiskit->qiskit-textbook==0.1.0) (2.24.0)\n",
      "Requirement already satisfied: nest-asyncio!=1.1.0,>=1.0.0 in c:\\users\\aman\\anaconda3\\lib\\site-packages (from qiskit-ibmq-provider==0.8.0->qiskit->qiskit-textbook==0.1.0) (1.2.1)\n",
      "Requirement already satisfied: urllib3>=1.21.1 in c:\\users\\aman\\anaconda3\\lib\\site-packages (from qiskit-ibmq-provider==0.8.0->qiskit->qiskit-textbook==0.1.0) (1.25.10)\n",
      "Requirement already satisfied: requests-ntlm>=1.1.0 in c:\\users\\aman\\anaconda3\\lib\\site-packages (from qiskit-ibmq-provider==0.8.0->qiskit->qiskit-textbook==0.1.0) (1.1.0)\n",
      "Requirement already satisfied: quandl in c:\\users\\aman\\anaconda3\\lib\\site-packages (from qiskit-aqua==0.7.5->qiskit->qiskit-textbook==0.1.0) (3.5.0)\n",
      "Requirement already satisfied: scikit-learn>=0.20.0 in c:\\users\\aman\\anaconda3\\lib\\site-packages (from qiskit-aqua==0.7.5->qiskit->qiskit-textbook==0.1.0) (0.23.1)\n",
      "Requirement already satisfied: fastdtw in c:\\users\\aman\\anaconda3\\lib\\site-packages (from qiskit-aqua==0.7.5->qiskit->qiskit-textbook==0.1.0) (0.3.4)\n",
      "Requirement already satisfied: docplex in c:\\users\\aman\\anaconda3\\lib\\site-packages (from qiskit-aqua==0.7.5->qiskit->qiskit-textbook==0.1.0) (2.12.182)\n",
      "Requirement already satisfied: sympy>=1.3 in c:\\users\\aman\\anaconda3\\lib\\site-packages (from qiskit-aqua==0.7.5->qiskit->qiskit-textbook==0.1.0) (1.6.2)\n",
      "Requirement already satisfied: yfinance in c:\\users\\aman\\appdata\\roaming\\python\\python37\\site-packages (from qiskit-aqua==0.7.5->qiskit->qiskit-textbook==0.1.0) (0.1.54)\n",
      "Requirement already satisfied: pandas in c:\\users\\aman\\anaconda3\\lib\\site-packages (from qiskit-aqua==0.7.5->qiskit->qiskit-textbook==0.1.0) (1.0.3)\n",
      "Requirement already satisfied: dlx in c:\\users\\aman\\anaconda3\\lib\\site-packages (from qiskit-aqua==0.7.5->qiskit->qiskit-textbook==0.1.0) (1.0.4)\n",
      "Requirement already satisfied: networkx>=2.2 in c:\\users\\aman\\anaconda3\\lib\\site-packages (from qiskit-aqua==0.7.5->qiskit->qiskit-textbook==0.1.0) (2.4)\n",
      "Requirement already satisfied: h5py in c:\\users\\aman\\anaconda3\\lib\\site-packages (from qiskit-aqua==0.7.5->qiskit->qiskit-textbook==0.1.0) (2.10.0)\n",
      "Requirement already satisfied: psutil>=5 in c:\\users\\aman\\anaconda3\\lib\\site-packages (from qiskit-aqua==0.7.5->qiskit->qiskit-textbook==0.1.0) (5.7.0)\n",
      "Requirement already satisfied: retworkx>=0.4.0 in c:\\users\\aman\\anaconda3\\lib\\site-packages (from qiskit-terra==0.15.1->qiskit->qiskit-textbook==0.1.0) (0.4.0)\n",
      "Requirement already satisfied: ply>=3.10 in c:\\users\\aman\\anaconda3\\lib\\site-packages (from qiskit-terra==0.15.1->qiskit->qiskit-textbook==0.1.0) (3.11)\n",
      "Requirement already satisfied: jsonschema>=2.6 in c:\\users\\aman\\anaconda3\\lib\\site-packages (from qiskit-terra==0.15.1->qiskit->qiskit-textbook==0.1.0) (3.2.0)\n",
      "Requirement already satisfied: python-constraint>=1.4 in c:\\users\\aman\\anaconda3\\lib\\site-packages (from qiskit-terra==0.15.1->qiskit->qiskit-textbook==0.1.0) (1.4.0)\n",
      "Requirement already satisfied: dill>=0.3 in c:\\users\\aman\\anaconda3\\lib\\site-packages (from qiskit-terra==0.15.1->qiskit->qiskit-textbook==0.1.0) (0.3.1.1)\n"
     ]
    },
    {
     "name": "stdout",
     "output_type": "stream",
     "text": [
      "Requirement already satisfied: fastjsonschema>=2.10 in c:\\users\\aman\\anaconda3\\lib\\site-packages (from qiskit-terra==0.15.1->qiskit->qiskit-textbook==0.1.0) (2.14.4)\n",
      "Requirement already satisfied: parso>=0.5.2 in c:\\users\\aman\\anaconda3\\lib\\site-packages (from jedi>=0.10->ipython->qiskit-textbook==0.1.0) (0.5.2)\n",
      "Requirement already satisfied: six in c:\\users\\aman\\anaconda3\\lib\\site-packages (from traitlets>=4.2->ipython->qiskit-textbook==0.1.0) (1.15.0)\n",
      "Requirement already satisfied: ipython-genutils in c:\\users\\aman\\anaconda3\\lib\\site-packages (from traitlets>=4.2->ipython->qiskit-textbook==0.1.0) (0.2.0)\n",
      "Requirement already satisfied: wcwidth in c:\\users\\aman\\anaconda3\\lib\\site-packages (from prompt-toolkit!=3.0.0,!=3.0.1,<3.1.0,>=2.0.0->ipython->qiskit-textbook==0.1.0) (0.2.5)\n",
      "Requirement already satisfied: jupyter-core in c:\\users\\aman\\anaconda3\\lib\\site-packages (from nbformat>=4.2.0->ipywidgets->qiskit-textbook==0.1.0) (4.6.3)\n",
      "Requirement already satisfied: notebook>=4.4.1 in c:\\users\\aman\\anaconda3\\lib\\site-packages (from widgetsnbextension~=3.5.0->ipywidgets->qiskit-textbook==0.1.0) (6.1.1)\n",
      "Requirement already satisfied: jupyter-client in c:\\users\\aman\\anaconda3\\lib\\site-packages (from ipykernel>=4.5.1->ipywidgets->qiskit-textbook==0.1.0) (6.1.6)\n",
      "Requirement already satisfied: tornado>=4.2 in c:\\users\\aman\\anaconda3\\lib\\site-packages (from ipykernel>=4.5.1->ipywidgets->qiskit-textbook==0.1.0) (6.0.4)\n",
      "Requirement already satisfied: idna<3,>=2.5 in c:\\users\\aman\\anaconda3\\lib\\site-packages (from requests>=2.19->qiskit-ibmq-provider==0.8.0->qiskit->qiskit-textbook==0.1.0) (2.10)\n",
      "Requirement already satisfied: certifi>=2017.4.17 in c:\\users\\aman\\anaconda3\\lib\\site-packages (from requests>=2.19->qiskit-ibmq-provider==0.8.0->qiskit->qiskit-textbook==0.1.0) (2020.6.20)\n",
      "Requirement already satisfied: chardet<4,>=3.0.2 in c:\\users\\aman\\anaconda3\\lib\\site-packages (from requests>=2.19->qiskit-ibmq-provider==0.8.0->qiskit->qiskit-textbook==0.1.0) (3.0.4)\n",
      "Requirement already satisfied: cryptography>=1.3 in c:\\users\\aman\\anaconda3\\lib\\site-packages (from requests-ntlm>=1.1.0->qiskit-ibmq-provider==0.8.0->qiskit->qiskit-textbook==0.1.0) (2.9.2)\n",
      "Requirement already satisfied: ntlm-auth>=1.0.2 in c:\\users\\aman\\anaconda3\\lib\\site-packages (from requests-ntlm>=1.1.0->qiskit-ibmq-provider==0.8.0->qiskit->qiskit-textbook==0.1.0) (1.4.0)\n",
      "Requirement already satisfied: inflection>=0.3.1 in c:\\users\\aman\\anaconda3\\lib\\site-packages (from quandl->qiskit-aqua==0.7.5->qiskit->qiskit-textbook==0.1.0) (0.3.1)\n",
      "Requirement already satisfied: more-itertools in c:\\users\\aman\\anaconda3\\lib\\site-packages (from quandl->qiskit-aqua==0.7.5->qiskit->qiskit-textbook==0.1.0) (8.4.0)\n",
      "Requirement already satisfied: joblib>=0.11 in c:\\users\\aman\\anaconda3\\lib\\site-packages (from scikit-learn>=0.20.0->qiskit-aqua==0.7.5->qiskit->qiskit-textbook==0.1.0) (0.16.0)\n",
      "Requirement already satisfied: threadpoolctl>=2.0.0 in c:\\users\\aman\\anaconda3\\lib\\site-packages (from scikit-learn>=0.20.0->qiskit-aqua==0.7.5->qiskit->qiskit-textbook==0.1.0) (2.1.0)\n",
      "Requirement already satisfied: docloud>=1.0.375 in c:\\users\\aman\\anaconda3\\lib\\site-packages (from docplex->qiskit-aqua==0.7.5->qiskit->qiskit-textbook==0.1.0) (1.0.375)\n",
      "Requirement already satisfied: mpmath>=0.19 in c:\\users\\aman\\anaconda3\\lib\\site-packages (from sympy>=1.3->qiskit-aqua==0.7.5->qiskit->qiskit-textbook==0.1.0) (1.1.0)\n",
      "Requirement already satisfied: multitasking>=0.0.7 in c:\\users\\aman\\appdata\\roaming\\python\\python37\\site-packages (from yfinance->qiskit-aqua==0.7.5->qiskit->qiskit-textbook==0.1.0) (0.0.9)\n",
      "Requirement already satisfied: pytz>=2017.2 in c:\\users\\aman\\anaconda3\\lib\\site-packages (from pandas->qiskit-aqua==0.7.5->qiskit->qiskit-textbook==0.1.0) (2020.1)\n",
      "Requirement already satisfied: attrs>=17.4.0 in c:\\users\\aman\\anaconda3\\lib\\site-packages (from jsonschema>=2.6->qiskit-terra==0.15.1->qiskit->qiskit-textbook==0.1.0) (19.3.0)\n",
      "Requirement already satisfied: pyrsistent>=0.14.0 in c:\\users\\aman\\anaconda3\\lib\\site-packages (from jsonschema>=2.6->qiskit-terra==0.15.1->qiskit->qiskit-textbook==0.1.0) (0.16.0)\n",
      "Requirement already satisfied: importlib-metadata; python_version < \"3.8\" in c:\\users\\aman\\anaconda3\\lib\\site-packages (from jsonschema>=2.6->qiskit-terra==0.15.1->qiskit->qiskit-textbook==0.1.0) (1.7.0)\n",
      "Requirement already satisfied: pywin32>=1.0; sys_platform == \"win32\" in c:\\users\\aman\\anaconda3\\lib\\site-packages (from jupyter-core->nbformat>=4.2.0->ipywidgets->qiskit-textbook==0.1.0) (227)\n",
      "Requirement already satisfied: jinja2 in c:\\users\\aman\\anaconda3\\lib\\site-packages (from notebook>=4.4.1->widgetsnbextension~=3.5.0->ipywidgets->qiskit-textbook==0.1.0) (2.11.2)\n",
      "Requirement already satisfied: prometheus-client in c:\\users\\aman\\anaconda3\\lib\\site-packages (from notebook>=4.4.1->widgetsnbextension~=3.5.0->ipywidgets->qiskit-textbook==0.1.0) (0.8.0)\n",
      "Requirement already satisfied: terminado>=0.8.3 in c:\\users\\aman\\anaconda3\\lib\\site-packages (from notebook>=4.4.1->widgetsnbextension~=3.5.0->ipywidgets->qiskit-textbook==0.1.0) (0.8.3)\n",
      "Requirement already satisfied: Send2Trash in c:\\users\\aman\\anaconda3\\lib\\site-packages (from notebook>=4.4.1->widgetsnbextension~=3.5.0->ipywidgets->qiskit-textbook==0.1.0) (1.5.0)\n",
      "Requirement already satisfied: argon2-cffi in c:\\users\\aman\\anaconda3\\lib\\site-packages (from notebook>=4.4.1->widgetsnbextension~=3.5.0->ipywidgets->qiskit-textbook==0.1.0) (20.1.0)\n",
      "Requirement already satisfied: nbconvert in c:\\users\\aman\\anaconda3\\lib\\site-packages (from notebook>=4.4.1->widgetsnbextension~=3.5.0->ipywidgets->qiskit-textbook==0.1.0) (5.6.1)\n",
      "Requirement already satisfied: pyzmq>=17 in c:\\users\\aman\\anaconda3\\lib\\site-packages (from notebook>=4.4.1->widgetsnbextension~=3.5.0->ipywidgets->qiskit-textbook==0.1.0) (19.0.2)\n",
      "Requirement already satisfied: cffi!=1.11.3,>=1.8 in c:\\users\\aman\\anaconda3\\lib\\site-packages (from cryptography>=1.3->requests-ntlm>=1.1.0->qiskit-ibmq-provider==0.8.0->qiskit->qiskit-textbook==0.1.0) (1.14.0)\n",
      "Requirement already satisfied: zipp>=0.5 in c:\\users\\aman\\anaconda3\\lib\\site-packages (from importlib-metadata; python_version < \"3.8\"->jsonschema>=2.6->qiskit-terra==0.15.1->qiskit->qiskit-textbook==0.1.0) (3.1.0)\n",
      "Requirement already satisfied: MarkupSafe>=0.23 in c:\\users\\aman\\anaconda3\\lib\\site-packages (from jinja2->notebook>=4.4.1->widgetsnbextension~=3.5.0->ipywidgets->qiskit-textbook==0.1.0) (1.1.1)\n",
      "Requirement already satisfied: testpath in c:\\users\\aman\\anaconda3\\lib\\site-packages (from nbconvert->notebook>=4.4.1->widgetsnbextension~=3.5.0->ipywidgets->qiskit-textbook==0.1.0) (0.4.4)\n",
      "Requirement already satisfied: defusedxml in c:\\users\\aman\\anaconda3\\lib\\site-packages (from nbconvert->notebook>=4.4.1->widgetsnbextension~=3.5.0->ipywidgets->qiskit-textbook==0.1.0) (0.6.0)\n",
      "Requirement already satisfied: entrypoints>=0.2.2 in c:\\users\\aman\\anaconda3\\lib\\site-packages (from nbconvert->notebook>=4.4.1->widgetsnbextension~=3.5.0->ipywidgets->qiskit-textbook==0.1.0) (0.3)\n",
      "Requirement already satisfied: mistune<2,>=0.8.1 in c:\\users\\aman\\anaconda3\\lib\\site-packages (from nbconvert->notebook>=4.4.1->widgetsnbextension~=3.5.0->ipywidgets->qiskit-textbook==0.1.0) (0.8.4)\n",
      "Requirement already satisfied: bleach in c:\\users\\aman\\anaconda3\\lib\\site-packages (from nbconvert->notebook>=4.4.1->widgetsnbextension~=3.5.0->ipywidgets->qiskit-textbook==0.1.0) (3.1.5)\n",
      "Requirement already satisfied: pandocfilters>=1.4.1 in c:\\users\\aman\\anaconda3\\lib\\site-packages (from nbconvert->notebook>=4.4.1->widgetsnbextension~=3.5.0->ipywidgets->qiskit-textbook==0.1.0) (1.4.2)\n",
      "Requirement already satisfied: pycparser in c:\\users\\aman\\anaconda3\\lib\\site-packages (from cffi!=1.11.3,>=1.8->cryptography>=1.3->requests-ntlm>=1.1.0->qiskit-ibmq-provider==0.8.0->qiskit->qiskit-textbook==0.1.0) (2.20)\n",
      "Requirement already satisfied: packaging in c:\\users\\aman\\anaconda3\\lib\\site-packages (from bleach->nbconvert->notebook>=4.4.1->widgetsnbextension~=3.5.0->ipywidgets->qiskit-textbook==0.1.0) (20.4)\n",
      "Requirement already satisfied: webencodings in c:\\users\\aman\\anaconda3\\lib\\site-packages (from bleach->nbconvert->notebook>=4.4.1->widgetsnbextension~=3.5.0->ipywidgets->qiskit-textbook==0.1.0) (0.5.1)\n",
      "Building wheels for collected packages: qiskit-textbook\n",
      "  Building wheel for qiskit-textbook (setup.py): started\n",
      "  Building wheel for qiskit-textbook (setup.py): finished with status 'done'\n",
      "  Created wheel for qiskit-textbook: filename=qiskit_textbook-0.1.0-py3-none-any.whl size=17082 sha256=80943bd4159cfa9fbbbf06c563198e5debd559190051d3794d136a80f650380d\n",
      "  Stored in directory: C:\\Users\\Aman\\AppData\\Local\\Temp\\pip-ephem-wheel-cache-1fakx8ta\\wheels\\71\\5a\\d9\\c90e2359a47893f51cf2ccd814aca4979bc32eb423b258aa25\n",
      "Successfully built qiskit-textbook\n"
     ]
    }
   ],
   "source": [
    "!pip install git+https://github.com/qiskit-community/qiskit-textbook.git#subdirectory=qiskit-textbook-src"
   ]
  },
  {
   "cell_type": "code",
   "execution_count": 19,
   "metadata": {
    "ExecuteTime": {
     "end_time": "2018-11-19T20:00:28.576569Z",
     "start_time": "2018-11-19T20:00:27.713089Z"
    }
   },
   "outputs": [
    {
     "data": {
      "image/png": "[encoded data removed]",
      "text/plain": [
       "<Figure size 140.487x144.48 with 1 Axes>"
      ]
     },
     "metadata": {},
     "output_type": "display_data"
    }
   ],
   "source": [
    "from qiskit import QuantumCircuit, ClassicalRegister, QuantumRegister\n",
    "from qiskit import execute\n",
    "from qiskit import Aer\n",
    "from qiskit.visualization import plot_state_qsphere\n",
    "from qiskit_textbook.tools import array_to_latex\n",
    "\n",
    "\n",
    "np.set_printoptions(precision=3, suppress=True)\n",
    "backend = Aer.get_backend('statevector_simulator')\n",
    "q = QuantumRegister(1)\n",
    "c = ClassicalRegister(1)\n",
    "circuit = QuantumCircuit(q, c)\n",
    "display ( circuit.draw('mpl') )"
   ]
  },
  {
   "cell_type": "markdown",
   "metadata": {},
   "source": [
    "The operator that replicates the effect of what we have seen in the classical case is the Pauli-Z matrix, defined as $\\begin{bmatrix}1 & 0\\\\ 0& -1\\end{bmatrix}$. Let's see what it does on the elements of the computational basis:"
   ]
  },
  {
   "cell_type": "code",
   "execution_count": 20,
   "metadata": {},
   "outputs": [],
   "source": [
    "def get_statevector(qc):\n",
    "    return execute(qc, backend = Aer.get_backend('statevector_simulator') ).result().get_statevector()"
   ]
  },
  {
   "cell_type": "code",
   "execution_count": 21,
   "metadata": {
    "ExecuteTime": {
     "end_time": "2018-11-19T20:00:28.652206Z",
     "start_time": "2018-11-19T20:00:28.578778Z"
    }
   },
   "outputs": [
    {
     "data": {
      "text/latex": [
       "$\\displaystyle \n",
       "\\text{ State : }\n",
       "\\begin{bmatrix}\n",
       "1 \\\\\n",
       "0\n",
       "\\end{bmatrix}\n",
       "$"
      ],
      "text/plain": [
       "<IPython.core.display.Math object>"
      ]
     },
     "metadata": {},
     "output_type": "display_data"
    },
    {
     "ename": "QiskitError",
     "evalue": "'Invalid input data format for DensityMatrix'",
     "output_type": "error",
     "traceback": [
      "\u001b[1;31m---------------------------------------------------------------------------\u001b[0m",
      "\u001b[1;31mQiskitError\u001b[0m                               Traceback (most recent call last)",
      "\u001b[1;32m<ipython-input-21-121203681b67>\u001b[0m in \u001b[0;36m<module>\u001b[1;34m\u001b[0m\n\u001b[0;32m      2\u001b[0m \u001b[0mstate\u001b[0m \u001b[1;33m=\u001b[0m \u001b[0mget_statevector\u001b[0m\u001b[1;33m(\u001b[0m\u001b[0mcircuit\u001b[0m\u001b[1;33m)\u001b[0m\u001b[1;33m\u001b[0m\u001b[1;33m\u001b[0m\u001b[0m\n\u001b[0;32m      3\u001b[0m \u001b[0marray_to_latex\u001b[0m \u001b[1;33m(\u001b[0m \u001b[0mstate\u001b[0m\u001b[1;33m,\u001b[0m \u001b[0mpretext\u001b[0m\u001b[1;33m=\u001b[0m\u001b[1;34m\"\\\\text{ State : }\\n\"\u001b[0m \u001b[1;33m)\u001b[0m\u001b[1;33m\u001b[0m\u001b[1;33m\u001b[0m\u001b[0m\n\u001b[1;32m----> 4\u001b[1;33m \u001b[0mplot_state_qsphere\u001b[0m\u001b[1;33m(\u001b[0m\u001b[0mstate\u001b[0m\u001b[1;33m.\u001b[0m\u001b[0mdata\u001b[0m\u001b[1;33m)\u001b[0m\u001b[1;33m\u001b[0m\u001b[1;33m\u001b[0m\u001b[0m\n\u001b[0m",
      "\u001b[1;32m~\\AppData\\Roaming\\Python\\Python37\\site-packages\\qiskit\\util.py\u001b[0m in \u001b[0;36mwrapper\u001b[1;34m(*args, **kwargs)\u001b[0m\n\u001b[0;32m    108\u001b[0m             \u001b[1;32mif\u001b[0m \u001b[0mkwargs\u001b[0m\u001b[1;33m:\u001b[0m\u001b[1;33m\u001b[0m\u001b[1;33m\u001b[0m\u001b[0m\n\u001b[0;32m    109\u001b[0m                 \u001b[0m_rename_kwargs\u001b[0m\u001b[1;33m(\u001b[0m\u001b[0mfunc\u001b[0m\u001b[1;33m.\u001b[0m\u001b[0m__name__\u001b[0m\u001b[1;33m,\u001b[0m \u001b[0mkwargs\u001b[0m\u001b[1;33m,\u001b[0m \u001b[0mkwarg_map\u001b[0m\u001b[1;33m)\u001b[0m\u001b[1;33m\u001b[0m\u001b[1;33m\u001b[0m\u001b[0m\n\u001b[1;32m--> 110\u001b[1;33m             \u001b[1;32mreturn\u001b[0m \u001b[0mfunc\u001b[0m\u001b[1;33m(\u001b[0m\u001b[1;33m*\u001b[0m\u001b[0margs\u001b[0m\u001b[1;33m,\u001b[0m \u001b[1;33m**\u001b[0m\u001b[0mkwargs\u001b[0m\u001b[1;33m)\u001b[0m\u001b[1;33m\u001b[0m\u001b[1;33m\u001b[0m\u001b[0m\n\u001b[0m\u001b[0;32m    111\u001b[0m         \u001b[1;32mreturn\u001b[0m \u001b[0mwrapper\u001b[0m\u001b[1;33m\u001b[0m\u001b[1;33m\u001b[0m\u001b[0m\n\u001b[0;32m    112\u001b[0m     \u001b[1;32mreturn\u001b[0m \u001b[0mdecorator\u001b[0m\u001b[1;33m\u001b[0m\u001b[1;33m\u001b[0m\u001b[0m\n",
      "\u001b[1;32m~\\AppData\\Roaming\\Python\\Python37\\site-packages\\qiskit\\visualization\\state_visualization.py\u001b[0m in \u001b[0;36mplot_state_qsphere\u001b[1;34m(state, figsize, ax, show_state_labels, show_state_phases, use_degrees, rho)\u001b[0m\n\u001b[0;32m    689\u001b[0m         raise ImportError('Must have seaborn installed to use '\n\u001b[0;32m    690\u001b[0m                           'plot_state_qsphere. To install, run \"pip install seaborn\".')\n\u001b[1;32m--> 691\u001b[1;33m     \u001b[0mrho\u001b[0m \u001b[1;33m=\u001b[0m \u001b[0mDensityMatrix\u001b[0m\u001b[1;33m(\u001b[0m\u001b[0mstate\u001b[0m\u001b[1;33m)\u001b[0m\u001b[1;33m\u001b[0m\u001b[1;33m\u001b[0m\u001b[0m\n\u001b[0m\u001b[0;32m    692\u001b[0m     \u001b[0mnum\u001b[0m \u001b[1;33m=\u001b[0m \u001b[0mrho\u001b[0m\u001b[1;33m.\u001b[0m\u001b[0mnum_qubits\u001b[0m\u001b[1;33m\u001b[0m\u001b[1;33m\u001b[0m\u001b[0m\n\u001b[0;32m    693\u001b[0m     \u001b[1;32mif\u001b[0m \u001b[0mnum\u001b[0m \u001b[1;32mis\u001b[0m \u001b[1;32mNone\u001b[0m\u001b[1;33m:\u001b[0m\u001b[1;33m\u001b[0m\u001b[1;33m\u001b[0m\u001b[0m\n",
      "\u001b[1;32m~\\AppData\\Roaming\\Python\\Python37\\site-packages\\qiskit\\quantum_info\\states\\densitymatrix.py\u001b[0m in \u001b[0;36m__init__\u001b[1;34m(self, data, dims)\u001b[0m\n\u001b[0;32m     81\u001b[0m             \u001b[0mself\u001b[0m\u001b[1;33m.\u001b[0m\u001b[0m_data\u001b[0m \u001b[1;33m=\u001b[0m \u001b[0mnp\u001b[0m\u001b[1;33m.\u001b[0m\u001b[0masarray\u001b[0m\u001b[1;33m(\u001b[0m\u001b[0mdata\u001b[0m\u001b[1;33m.\u001b[0m\u001b[0mto_matrix\u001b[0m\u001b[1;33m(\u001b[0m\u001b[1;33m)\u001b[0m\u001b[1;33m,\u001b[0m \u001b[0mdtype\u001b[0m\u001b[1;33m=\u001b[0m\u001b[0mcomplex\u001b[0m\u001b[1;33m)\u001b[0m\u001b[1;33m\u001b[0m\u001b[1;33m\u001b[0m\u001b[0m\n\u001b[0;32m     82\u001b[0m         \u001b[1;32melse\u001b[0m\u001b[1;33m:\u001b[0m\u001b[1;33m\u001b[0m\u001b[1;33m\u001b[0m\u001b[0m\n\u001b[1;32m---> 83\u001b[1;33m             \u001b[1;32mraise\u001b[0m \u001b[0mQiskitError\u001b[0m\u001b[1;33m(\u001b[0m\u001b[1;34m\"Invalid input data format for DensityMatrix\"\u001b[0m\u001b[1;33m)\u001b[0m\u001b[1;33m\u001b[0m\u001b[1;33m\u001b[0m\u001b[0m\n\u001b[0m\u001b[0;32m     84\u001b[0m         \u001b[1;31m# Convert statevector into a density matrix\u001b[0m\u001b[1;33m\u001b[0m\u001b[1;33m\u001b[0m\u001b[1;33m\u001b[0m\u001b[0m\n\u001b[0;32m     85\u001b[0m         \u001b[0mndim\u001b[0m \u001b[1;33m=\u001b[0m \u001b[0mself\u001b[0m\u001b[1;33m.\u001b[0m\u001b[0m_data\u001b[0m\u001b[1;33m.\u001b[0m\u001b[0mndim\u001b[0m\u001b[1;33m\u001b[0m\u001b[1;33m\u001b[0m\u001b[0m\n",
      "\u001b[1;31mQiskitError\u001b[0m: 'Invalid input data format for DensityMatrix'"
     ]
    }
   ],
   "source": [
    "circuit.z(q[0])\n",
    "state = get_statevector(circuit)\n",
    "array_to_latex ( state, pretext=\"\\\\text{ State : }\\n\" )\n",
    "plot_state_qsphere(state.data)"
   ]
  },
  {
   "cell_type": "markdown",
   "metadata": {
    "ExecuteTime": {
     "end_time": "2018-11-09T23:08:37.178401Z",
     "start_time": "2018-11-09T23:08:37.159286Z"
    }
   },
   "source": [
    "This is nothing but the $|0\\rangle$ state. In other words, it does not do anything to $|0\\rangle$, which can also be thought of as multiplying it by +1. Let's try it on $|1\\rangle$:"
   ]
  },
  {
   "cell_type": "code",
   "execution_count": null,
   "metadata": {
    "ExecuteTime": {
     "end_time": "2018-11-19T20:00:28.716083Z",
     "start_time": "2018-11-19T20:00:28.658356Z"
    }
   },
   "outputs": [],
   "source": [
    "circuit = QuantumCircuit(q, c)\n",
    "circuit.z(q[0])\n",
    "circuit.x(q[0])\n",
    "\n",
    "state = get_statevector(circuit)\n",
    "array_to_latex ( state, pretext=\"\\\\text{ State : }\\n\" )\n",
    "plot_state_qsphere(state.data)"
   ]
  },
  {
   "cell_type": "markdown",
   "metadata": {},
   "source": [
    "We get $-|1\\rangle$, which means it adds a minus sign to it. This way we have the +1, -1 values, just the same way as in the classical formalism. If we write $\\sigma^Z_i$ for the operator $Z$ at a site $i$, the quantum mechanical Hamiltonian of the classical Ising model reads as\n",
    "\n",
    "$$ H=-\\sum_{<i,j>} J_{ij} \\sigma^Z_i \\sigma^Z_{j} - \\sum_i h_i \\sigma^Z_i$$.\n",
    "\n",
    "Technically speaking, we should put a hat on $H$ and on all of the $\\sigma^Z_i$ to indicate that they are operators, and not numbers or variables, but we omit this for notational simplicity.\n",
    "\n",
    "The expectation value $<H>$ of the Hamiltonian is the energy of the system, and the corresponding quantum state $|\\psi\\rangle$ is the configuration of that energy level. We can create the quantum mechanical version of calculating the energy, matching the function we defined above for the classical mechanical variant:"
   ]
  },
  {
   "cell_type": "code",
   "execution_count": null,
   "metadata": {
    "ExecuteTime": {
     "end_time": "2018-11-19T20:00:28.728032Z",
     "start_time": "2018-11-19T20:00:28.722743Z"
    }
   },
   "outputs": [],
   "source": [
    "def calculate_energy_expectation(state, hamiltonian):\n",
    "    return np.squeeze(np.dot(np.matrix.getH(state),  np.dot(hamiltonian, state) ))\n",
    "    #return float((state.T.conj() @ hamiltonian @ state).real)\n",
    "    #return float((state.T.conj() @ hamiltonian @ state).real)"
   ]
  },
  {
   "cell_type": "markdown",
   "metadata": {},
   "source": [
    "It is a bit tricky to define the Hamiltonian with the $\\sigma^Z_i$ operators, since saying that it acts on site $i$ means that it acts trivially on all other sites. So, for instance, for two sites, if we act on site one, the actual operator is $\\sigma^Z\\otimes I$, and acting on site two, we have $I \\otimes \\sigma^Z$. The above function to calculate the energy takes numpy arrays, so we manually define $\\sigma^Z$ and calculate the energy of the Hamiltonian \n",
    "\n",
    "$$H=-\\sigma^Z_1\\sigma^Z_2  - 0.5 (\\sigma^Z_1 + \\sigma^Z_2)$$\n",
    "\n",
    "on the state $|00\\rangle$."
   ]
  },
  {
   "cell_type": "code",
   "execution_count": null,
   "metadata": {},
   "outputs": [],
   "source": [
    "# built-in operators\n",
    "from qiskit.quantum_info import Operator, Pauli\n",
    "\n",
    "array_to_latex ( Operator(Pauli(label='X')).data, pretext=\"\\\\text{ Pauli-X operator : }\\n\" )\n",
    "array_to_latex ( Operator(Pauli(label='XZ')).data, pretext=\"\\\\text{ XZ operator : }\\n\" )"
   ]
  },
  {
   "cell_type": "code",
   "execution_count": null,
   "metadata": {
    "ExecuteTime": {
     "end_time": "2018-11-19T20:00:28.755692Z",
     "start_time": "2018-11-19T20:00:28.731315Z"
    }
   },
   "outputs": [],
   "source": [
    "PauliZ = np.array([[1, 0], [0, -1]])\n",
    "I2 = np.eye(2)\n",
    "IZ = np.kron(I2, PauliZ);\n",
    "ZI = np.kron(PauliZ, I2);\n",
    "ZZ = np.kron(PauliZ, PauliZ);\n",
    "H = -ZZ + -0.5*(ZI+IZ);\n",
    "ψ = np.kron([[1], [0]], [[1], [0]]) ;\n",
    "ψ_H_ψ = calculate_energy_expectation(ψ, H);\n",
    "\n",
    "array_to_latex ( IZ, pretext=\"\\\\text{ IZ = }\\n\" )\n",
    "array_to_latex ( ZI, pretext=\"\\\\text{ ZI = }\\n\" )\n",
    "array_to_latex ( ZZ, pretext=\"\\\\text{ ZZ = }\\n\" )\n",
    "array_to_latex ( H, pretext=\"\\\\text{ H = }\\n\" )\n",
    "array_to_latex ( ψ, pretext=\"\\\\text{ ψ = }\\n\" )\n",
    " \n",
    "print (f\"Energy expectetation value: {ψ_H_ψ}\")\n"
   ]
  },
  {
   "cell_type": "markdown",
   "metadata": {},
   "source": [
    "This Hamiltonian commutes, which means all of its operators are commutative, which is a clear sign of nothing much quantum going on.\n",
    "\n",
    "To make this a quantum Ising model, we need to add a term that does not commute with the rest of the terms. A transverse field is such, which is an on-site interaction just like the external field. Its effect is described by the Pauli-X operator (the NOT gate), which we will denote by $\\sigma^X_i$ for a site $i$. It is very easy to see that the Pauli-Z and the Pauli-X do not commute:"
   ]
  },
  {
   "cell_type": "code",
   "execution_count": null,
   "metadata": {
    "ExecuteTime": {
     "end_time": "2018-11-19T20:00:28.860349Z",
     "start_time": "2018-11-19T20:00:28.758829Z"
    }
   },
   "outputs": [],
   "source": [
    "circuit = QuantumCircuit(q, c)\n",
    "circuit.x(q[0]); \n",
    "circuit.z(q[0])\n",
    "state = get_statevector(circuit)\n",
    "\n",
    "op = Operator(circuit)\n",
    "array_to_latex ( op.data, pretext=\"\\\\text{ Pauli-X, then Pauli-Z, Circuit as operator : }\\n\" )\n",
    "array_to_latex ( state, pretext=\"\\\\text{ Statevector : }\\n\" )\n",
    "\n",
    "circuit = QuantumCircuit(q, c)\n",
    "circuit.z(q[0]);\n",
    "circuit.x(q[0])\n",
    "state = get_statevector(circuit)\n",
    "\n",
    "op = Operator(circuit)\n",
    "array_to_latex ( op.data, pretext=\"\\\\text{ Pauli-Z, then Pauli-X, Circuit as operator : }\\n\" )\n",
    "array_to_latex ( state, pretext=\"\\\\text{ Statevector: }\\n\" )\n"
   ]
  },
  {
   "cell_type": "markdown",
   "metadata": {},
   "source": [
    "There is a clear sign difference in the state vectors."
   ]
  },
  {
   "cell_type": "markdown",
   "metadata": {},
   "source": [
    "There are many other ways of making the Ising Hamiltonian noncommuting, but adding the onsite Pauli-X operations leads to the *transverse field Ising model*. Its Hamiltonian reads as\n",
    "\n",
    "$$ H=-\\sum_{<i,j>} J_{ij} \\sigma^Z_i \\sigma^Z_{j} - \\sum_i h_i \\sigma^Z_i - \\sum_i g_i \\sigma^X_i$$.\n",
    "\n",
    "The transverse field Ising model is critically important to explain how quantum annealing works because by adding the $\\sigma^X$ part to the Hamiltonian it becomes possible to exploit quantum effects like tunnelling. It is also important for understanding the quantum approximation optimization algorithms, since it was inspired by quantum annealing."
   ]
  },
  {
   "cell_type": "markdown",
   "metadata": {},
   "source": [
    "\n",
    "We add a Pauli-X term to both sites, so the total Hamiltonian will be \n",
    "$$H=-\\sigma^Z_1\\sigma^Z_2-\\sigma^X_1-\\sigma^X_2$$, in the object `H`.\n"
   ]
  },
  {
   "cell_type": "code",
   "execution_count": null,
   "metadata": {},
   "outputs": [],
   "source": [
    "X = np.array([[0, 1], [1, 0]])\n",
    "IX = np.kron(I2, X)\n",
    "XI = np.kron(X, I2)\n",
    "H = H - XI - IX\n",
    "H"
   ]
  },
  {
   "cell_type": "markdown",
   "metadata": {},
   "source": [
    "If you take a look at the matrix of the Hamiltonian, it has off-diagonal terms.\n",
    "\n",
    "The energy expectation value in the $|00\\rangle$ is not affected, the transverse field only lowers the ground state energy:"
   ]
  },
  {
   "cell_type": "code",
   "execution_count": null,
   "metadata": {},
   "outputs": [],
   "source": [
    "ψ = np.kron([[1], [0]], [[1], [0]])\n",
    "calculate_energy_expectation(ψ, H)"
   ]
  },
  {
   "cell_type": "markdown",
   "metadata": {},
   "source": [
    "Is this the ground state energy? We can use the eigenvector corresponding to the smallest eigenvalue and calculate the expectation value of it."
   ]
  },
  {
   "cell_type": "code",
   "execution_count": null,
   "metadata": {},
   "outputs": [],
   "source": [
    "eigenvalues, eigenvectors = np.linalg.eigh(H)\n",
    "ψ = eigenvectors[:, 0:1]\n",
    "energy_expectation_value = calculate_energy_expectation(ψ, H)\n",
    "energy_expectation_value"
   ]
  },
  {
   "cell_type": "markdown",
   "metadata": {},
   "source": [
    "Naturally, this value also corresponds to the lowest eigenvalue and indeed, this is the ground state energy. So by calculating the eigendecomposition of the typically non-diagonal Hamiltonian, we can extract both the ground state and its energy. The difficulty comes from the exponential scaling of the matrix representing the Hamiltonian as a function of the number of sites. This is the original reason going back to the early 1980s to build a quantum computer: this device would implement (or simulate) the Hamiltonian in hardware. Say, a couple of hundred spins would be beyond the computational capacity of supercomputers, but having the physical spins and being able to set a specific Hamiltonian, we can extract quantities of interest, such the ground state."
   ]
  },
  {
   "cell_type": "markdown",
   "metadata": {},
   "source": [
    "# Measurement Error Mitigation\n",
    "\n",
    "**Reference**\n",
    "- [Measurement Error Mitigation, Qiskit](https://qiskit.org/textbook/ch-quantum-hardware/measurement-error-mitigation.html)\n",
    "-[Building Noise Models, Qiskit](https://qiskit.org/documentation/tutorials/simulators/3_building_noise_models.html)\n",
    "\n",
    "The effect of noise that occurs throughout a computation will be quite complex in general, as one would have to consider how each gate transforms the effect of each error.\n",
    "\n",
    "However if the noise occurs during the final measurement, then the problem becomes easier as ew can extract the bit string as an output."
   ]
  },
  {
   "cell_type": "code",
   "execution_count": null,
   "metadata": {},
   "outputs": [],
   "source": [
    "from qiskit.providers.aer.noise import NoiseModel\n",
    "from qiskit.providers.aer.noise.errors import pauli_error, depolarizing_error\n",
    "\n",
    "from qiskit import ignis\n",
    "from qiskit.visualization import plot_histogram\n"
   ]
  },
  {
   "cell_type": "markdown",
   "metadata": {},
   "source": [
    "**Pauli Error**\n",
    "\n",
    "*an n-qubit Pauli error channel (mixed unitary) given as a list of Pauli’s and probabilities [ (P0, p0), ...]*"
   ]
  },
  {
   "cell_type": "code",
   "execution_count": null,
   "metadata": {},
   "outputs": [],
   "source": [
    "# Construct a 5% single-qubit Bit-flip error\n",
    "p_error = 0.05\n",
    "bit_flip = pauli_error([('X', p_error), ('I', 1 - p_error)])\n",
    "phase_flip = pauli_error([('Z', p_error), ('I', 1 - p_error)])\n",
    "print(bit_flip)\n",
    "print(phase_flip)"
   ]
  },
  {
   "cell_type": "code",
   "execution_count": null,
   "metadata": {},
   "outputs": [],
   "source": [
    "def get_noise(p):\n",
    "    # flip the bit with a given p\n",
    "    error_meas = pauli_error([('X',p), ('I', 1 - p)])\n",
    "    noise_model = NoiseModel()\n",
    "    noise_model.add_all_qubit_quantum_error(error_meas, \"measure\") \n",
    "    # measurement error is applied to measurements\n",
    "    return noise_model"
   ]
  },
  {
   "cell_type": "code",
   "execution_count": null,
   "metadata": {},
   "outputs": [],
   "source": [
    "noise_model = get_noise(0.01)\n",
    "noise_model"
   ]
  },
  {
   "cell_type": "code",
   "execution_count": null,
   "metadata": {},
   "outputs": [],
   "source": [
    "qc = QuantumCircuit(2,2)\n",
    "qc.x(0)\n",
    "qc.h(1)\n",
    "qc.measure(0, 1)\n",
    "display( qc.draw('mpl') )"
   ]
  },
  {
   "cell_type": "code",
   "execution_count": null,
   "metadata": {},
   "outputs": [],
   "source": [
    "backend = Aer.get_backend('qasm_simulator')\n",
    "\n",
    "noises = np.array([0.01, 0.1, .5])\n",
    "noises_label = ['noise='+str(n) for n in noises]\n",
    "\n",
    "all_counts =[]\n",
    "for noise in noises:\n",
    "    \n",
    "    noise_model = get_noise(noise)\n",
    "    job = execute(qc, backend=backend, noise_model=noise_model, shots=10000)\n",
    "    counts = job.result().get_counts()\n",
    "    \n",
    "    all_counts.append(counts)\n",
    "\n",
    "plot_histogram(all_counts, legend=noises_label, figsize=(6, 4))\n"
   ]
  },
  {
   "cell_type": "markdown",
   "metadata": {},
   "source": [
    "Let's test the the noise model for a 2 qubit circuit. where the basis states are $\\vert 00 \\rangle $, $\\vert 01 \\rangle $, $\\vert 10 \\rangle $ and $\\vert 11 \\rangle $."
   ]
  },
  {
   "cell_type": "code",
   "execution_count": null,
   "metadata": {},
   "outputs": [],
   "source": [
    "\n",
    "noise_model = get_noise(0.01)\n",
    "\n",
    "qc = QuantumCircuit(2,2)\n",
    "for state in ['00','01','10','11']:\n",
    "    if state[0]=='1':\n",
    "        qc.x(1)\n",
    "    if state[1]=='1':\n",
    "        qc.x(0)\n",
    "    qc.measure(qc.qregs[0],qc.cregs[0])\n",
    "    \n",
    "    backend = Aer.get_backend('qasm_simulator')\n",
    "    job = execute(qc, backend=backend, noise_model=noise_model, shots=10000)\n",
    "    counts = job.result().get_counts()\n",
    "    print ( f\"Pure State: {state}, mixed states counts: {counts}\" )"
   ]
  },
  {
   "cell_type": "markdown",
   "metadata": {},
   "source": [
    "We write the counts in the mixed state as a vector and construct a matrix by putting the vectors for each of the basis states as rows.\n",
    "\n",
    "For example: vector for state  $\\vert 00 \\rangle $ is $C=[9816, 80, 1, 103]$ which can be normalized."
   ]
  },
  {
   "cell_type": "code",
   "execution_count": null,
   "metadata": {},
   "outputs": [],
   "source": [
    "def Get_matrix():\n",
    "    M = np.zeros((2**2, 2**2), dtype=float)\n",
    "    for i, state in enumerate(['00','01','10','11']):\n",
    "        qc = QuantumCircuit(2,2)\n",
    "        if state[0]=='1': qc.x(1)\n",
    "        if state[1]=='1': qc.x(0)\n",
    "\n",
    "        qc.measure(qc.qregs[0],qc.cregs[0])\n",
    "        \n",
    "        backend = Aer.get_backend('qasm_simulator')\n",
    "        job = execute(qc, backend=backend, noise_model=noise_model, shots=10000)\n",
    "        counts = job.result().get_counts()\n",
    "        \n",
    "        M[i] = np.array([counts.get(s, 0) for s in ['00','01','10','11'] ])/10000\n",
    "        \n",
    "    return M\n",
    "\n",
    "M = Get_matrix()\n",
    "array_to_latex(M, pretext=\"M=\")"
   ]
  },
  {
   "cell_type": "markdown",
   "metadata": {},
   "source": [
    "If we now take the vector describing the perfect results for a given state, applying this matrix gives us a good approximation of the results when measurement noise is present.\n",
    "\n",
    "$$C_{noisy}= M \\ C_{ideal}$$\n",
    "\n",
    "let's apply this process for the state  \n",
    "\n",
    "$$\n",
    "(\\vert 00 \\rangle + \\vert 11 \\rangle  )/\\sqrt{2}\n",
    "$$"
   ]
  },
  {
   "cell_type": "code",
   "execution_count": null,
   "metadata": {},
   "outputs": [],
   "source": [
    "C_ideal = np.array([0, 5000, 5000, 0] )\n",
    "C_noisy = np.dot(M, C_ideal)\n",
    "print (f\"C_ideal: {C_ideal}\")\n",
    "print (f\"C_Noisy: {C_noisy}\")"
   ]
  },
  {
   "cell_type": "markdown",
   "metadata": {},
   "source": [
    "In reality though, we need a way to transform noisy data into ideal data. In linear algebra, we do this for a matrix  𝑀  by finding the inverse matrix  $𝑀^{-1}$ ,\n",
    "\n",
    "$$C_{ideal}= M^{-1} \\ C_{noisy}$$"
   ]
  },
  {
   "cell_type": "code",
   "execution_count": null,
   "metadata": {},
   "outputs": [],
   "source": [
    "C_mitigated = np.dot(np.linalg.inv(M), C_noisy)\n",
    "print (f\"C_mitigated: {C_mitigated}\")"
   ]
  },
  {
   "cell_type": "markdown",
   "metadata": {},
   "source": [
    "Exactly as we wanted."
   ]
  },
  {
   "cell_type": "markdown",
   "metadata": {},
   "source": [
    "**Error Mitigation in Qiskit**"
   ]
  },
  {
   "cell_type": "code",
   "execution_count": null,
   "metadata": {},
   "outputs": [],
   "source": [
    "from qiskit.ignis.mitigation.measurement import (complete_meas_cal, CompleteMeasFitter)\n",
    "\n",
    "qr = QuantumRegister(2)\n",
    "meas_calibs, state_labels = complete_meas_cal(qr=qr, circlabel='mcal')\n",
    "\n",
    "print (\"The basis states: \", state_labels)\n",
    "\n",
    "for circuit in meas_calibs:\n",
    "    print (\"Circuit:\",circuit.name)\n",
    "    display(circuit.draw('mpl'))\n"
   ]
  },
  {
   "cell_type": "markdown",
   "metadata": {},
   "source": [
    "Now, let's run all the circuit simultaneously."
   ]
  },
  {
   "cell_type": "code",
   "execution_count": null,
   "metadata": {},
   "outputs": [],
   "source": [
    "# Execute the calibration circuits without noise\n",
    "backend = Aer.get_backend('qasm_simulator')\n",
    "job = execute(meas_calibs, backend=backend, shots=1000)\n",
    "cal_results = job.result()\n",
    "#cal_results"
   ]
  },
  {
   "cell_type": "code",
   "execution_count": null,
   "metadata": {},
   "outputs": [],
   "source": [
    "meas_fitter = CompleteMeasFitter(cal_results, state_labels, circlabel='mcal')\n",
    "print(meas_fitter.cal_matrix)"
   ]
  },
  {
   "cell_type": "markdown",
   "metadata": {},
   "source": [
    "With no noise present, this is simply the identity matrix.\n",
    "\n",
    "Let's now create a noisy model and do error mitigation."
   ]
  },
  {
   "cell_type": "code",
   "execution_count": null,
   "metadata": {},
   "outputs": [],
   "source": [
    "noise_model = get_noise(0.1)\n",
    "\n",
    "backend = Aer.get_backend('qasm_simulator')\n",
    "job = execute(meas_calibs, backend=backend, shots=1000, noise_model=noise_model)\n",
    "cal_results = job.result()\n",
    "\n",
    "meas_fitter = CompleteMeasFitter(cal_results, state_labels, circlabel='mcal')\n",
    "print(meas_fitter.cal_matrix)"
   ]
  },
  {
   "cell_type": "markdown",
   "metadata": {},
   "source": [
    "Let's see how well we can mitigate for this noise. Again, let's use the Bell state  $(\\vert 00 \\rangle + \\vert 11 \\rangle  )/\\sqrt{2}$ for our test."
   ]
  },
  {
   "cell_type": "code",
   "execution_count": null,
   "metadata": {},
   "outputs": [],
   "source": [
    "qc = QuantumCircuit(2,2)\n",
    "qc.h(0)\n",
    "qc.cx(0,1)\n",
    "display ( qc.draw('mpl') )\n",
    "qc.measure(qc.qregs[0],qc.cregs[0])\n",
    "\n",
    "job = execute(qc, backend=backend, shots=10000, noise_model=noise_model)\n",
    "results = job.result()\n",
    "\n",
    "noisy_counts = results.get_counts()\n",
    "print(\"Noisy Counts:\",noisy_counts)"
   ]
  },
  {
   "cell_type": "markdown",
   "metadata": {},
   "source": [
    "now we mitigate this noise by creating a measurement filter object."
   ]
  },
  {
   "cell_type": "code",
   "execution_count": null,
   "metadata": {},
   "outputs": [],
   "source": [
    "# Get the filter object\n",
    "meas_filter = meas_fitter.filter\n",
    "\n",
    "# Results with mitigation\n",
    "mitigated_results = meas_filter.apply(results)\n",
    "mitigated_counts = mitigated_results.get_counts(0)\n",
    "print (\"mitigated counts:\\n\", mitigated_counts)"
   ]
  },
  {
   "cell_type": "code",
   "execution_count": null,
   "metadata": {},
   "outputs": [],
   "source": [
    "print ( noisy_counts)\n",
    "print ( mitigated_counts )"
   ]
  },
  {
   "cell_type": "code",
   "execution_count": null,
   "metadata": {},
   "outputs": [],
   "source": [
    "%config InlineBackend.figure_format = 'svg' # Makes the images look nice\n",
    "plot_histogram([noisy_counts, mitigated_counts], legend=['noisy', 'mitigated'], figsize=(6, 4))"
   ]
  },
  {
   "cell_type": "markdown",
   "metadata": {},
   "source": [
    "Here we have taken results for which almost 20% of samples are in the wrong state, and turned it into an exact representation of what the true results should be. However, this example does have just two qubits with a simple noise model. For more qubits, and more complex noise models or data from real devices, the mitigation will have more of a challenge. Perhaps you might find methods that are better than those Qiskit uses!"
   ]
  },
  {
   "cell_type": "code",
   "execution_count": null,
   "metadata": {},
   "outputs": [],
   "source": []
  },
  {
   "cell_type": "code",
   "execution_count": null,
   "metadata": {},
   "outputs": [],
   "source": []
  },
  {
   "cell_type": "code",
   "execution_count": null,
   "metadata": {},
   "outputs": [],
   "source": []
  }
 ],
 "metadata": {
  "kernelspec": {
   "display_name": "Python 3",
   "language": "python",
   "name": "python3"
  },
  "language_info": {
   "codemirror_mode": {
    "name": "ipython",
    "version": 3
   },
   "file_extension": ".py",
   "mimetype": "text/x-python",
   "name": "python",
   "nbconvert_exporter": "python",
   "pygments_lexer": "ipython3",
   "version": "3.7.7"
  },
  "varInspector": {
   "cols": {
    "lenName": 16,
    "lenType": 16,
    "lenVar": 40
   },
   "kernels_config": {
    "python": {
     "delete_cmd_postfix": "",
     "delete_cmd_prefix": "del ",
     "library": "var_list.py",
     "varRefreshCmd": "print(var_dic_list())"
    },
    "r": {
     "delete_cmd_postfix": ") ",
     "delete_cmd_prefix": "rm(",
     "library": "var_list.r",
     "varRefreshCmd": "cat(var_dic_list()) "
    }
   },
   "types_to_exclude": [
    "module",
    "function",
    "builtin_function_or_method",
    "instance",
    "_Feature"
   ],
   "window_display": false
  }
 },
 "nbformat": 4,
 "nbformat_minor": 2
}
