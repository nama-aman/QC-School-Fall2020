{
 "cells": [
  {
   "cell_type": "markdown",
   "metadata": {},
   "source": [
    "Run the commands below to check all the installed python libraries in your machine.  \n",
    "`!pip list`  \n",
    "`!pip freeze`"
   ]
  },
  {
   "cell_type": "markdown",
   "metadata": {},
   "source": [
    "To install Qiskit  \n",
    "`!pip install qiskit`"
   ]
  },
  {
   "cell_type": "markdown",
   "metadata": {},
   "source": [
    "To check Qiskit Version  \n",
    "\n",
    "`import qiskit`  \n",
    "`qiskit.__qiskit_version__`"
   ]
  },
  {
   "cell_type": "markdown",
   "metadata": {},
   "source": [
    "#### If plot_bloch_multivector is not running follow these steps\n",
    "\n",
    "First upgrade pip  \n",
    "`!pip install --upgrade pip --user`\n",
    "\n",
    "This version of qiskit that will run plot_bloch_multivector is 0.19.0 . If you are having issues with plot_bloch_multivector, run the command below in Juputer Notebook or the terminal.  \n",
    "`!pip install qiskit==0.19.0`  \n",
    "If the current user does not have root previleges use the following command.   \n",
    "`!pip install qiskit==0.19.0 --user`"
   ]
  },
  {
   "cell_type": "markdown",
   "metadata": {},
   "source": [
    "#### Installing the qiskit_textbook Package \n",
    "The Qiskit Textbook provides some tools and widgets specific to the Textbook. This is not part of Qiskit and is available through the qiskit_textbook package. The quickest way to install this with [Pip](https://pypi.org/project/pip/) and [Git](https://git-scm.com/) is through the command:\n",
    "\n",
    "`pip install git+https://github.com/qiskit-community/qiskit-textbook.git#subdirectory=qiskit-textbook-src`\n",
    "\n",
    "Alternatively, you can download the folder [qiskit-textbook-src](https://github.com/qiskit-community/qiskit-textbook) from the Github and run:\n",
    "\n",
    "`pip install ./qiskit-textbook-src`\n",
    "from the directory that contains this folder.\n",
    "\n"
   ]
  },
  {
   "cell_type": "markdown",
   "metadata": {},
   "source": [
    "If required check your git version and upgrade.  \n",
    "\n",
    "* To check git version on the **terminal**  \n",
    "`git --version`"
   ]
  },
  {
   "cell_type": "code",
   "execution_count": null,
   "metadata": {},
   "outputs": [],
   "source": []
  }
 ],
 "metadata": {
  "kernelspec": {
   "display_name": "Python 3",
   "language": "python",
   "name": "python3"
  },
  "language_info": {
   "codemirror_mode": {
    "name": "ipython",
    "version": 3
   },
   "file_extension": ".py",
   "mimetype": "text/x-python",
   "name": "python",
   "nbconvert_exporter": "python",
   "pygments_lexer": "ipython3",
   "version": "3.7.6"
  }
 },
 "nbformat": 4,
 "nbformat_minor": 4
}
